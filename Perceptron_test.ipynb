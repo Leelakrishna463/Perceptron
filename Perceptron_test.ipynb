{
 "cells": [
  {
   "cell_type": "code",
   "execution_count": 4,
   "metadata": {},
   "outputs": [],
   "source": [
    "import pickle\n",
    "bias = 1"
   ]
  },
  {
   "cell_type": "code",
   "execution_count": 5,
   "metadata": {},
   "outputs": [],
   "source": [
    "infile = open('weightvalues','rb')\n",
    "weights = pickle.load(infile)\n",
    "infile.close()"
   ]
  },
  {
   "cell_type": "code",
   "execution_count": 6,
   "metadata": {},
   "outputs": [
    {
     "name": "stdout",
     "output_type": "stream",
     "text": [
      "Enter the surface as 'smooth' or 'bumpy', weight of the fruit to be classifiedsmooth 100\n",
      "\n",
      "The predicted fruit is APPLE\n"
     ]
    }
   ],
   "source": [
    "surface,weight = map(str,input(\"Enter the surface as 'smooth' or 'bumpy', weight of the fruit to be classified\").split())\n",
    "surface = 0 if surface == 'bumpy' else 1\n",
    "weight = 0 if int(weight) > 115 else 1\n",
    "guessedfruit = surface*weights[0] + weight*weights[1] + bias*weights[2]\n",
    "print('\\nThe predicted fruit is',end = \" \")\n",
    "if(guessedfruit > 0):\n",
    "    print('APPLE')\n",
    "else:\n",
    "    print('ORANGE')"
   ]
  }
 ],
 "metadata": {
  "kernelspec": {
   "display_name": "Python 3",
   "language": "python",
   "name": "python3"
  },
  "language_info": {
   "codemirror_mode": {
    "name": "ipython",
    "version": 3
   },
   "file_extension": ".py",
   "mimetype": "text/x-python",
   "name": "python",
   "nbconvert_exporter": "python",
   "pygments_lexer": "ipython3",
   "version": "3.7.1"
  }
 },
 "nbformat": 4,
 "nbformat_minor": 2
}
