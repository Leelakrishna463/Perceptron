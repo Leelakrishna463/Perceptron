{
 "cells": [
  {
   "cell_type": "markdown",
   "metadata": {},
   "source": [
    "####                                                   A PERCEPTRON THAT CAN RECOGNIZE A FRUIT\n",
    "#####    Classifying a fruit as apple or orange using the surface structure and weight of the object to be classified\n",
    "#####     A perceptron acts a binary classifier that can classify linearly seperable objects, and it creates a decision boundary and classifies the fruit"
   ]
  },
  {
   "cell_type": "code",
   "execution_count": null,
   "metadata": {},
   "outputs": [],
   "source": [
    "import random,pickle                                        #for generating random weights and exporting\n",
    "lr = 1                                                      #for increasing the learning rate of the perceptron \n",
    "bias = 1                                                    #used for shifting activation function\n",
    "weights = [random.random(),random.random(),random.random()] #randomizing the weights\n"
   ]
  },
  {
   "cell_type": "code",
   "execution_count": null,
   "metadata": {},
   "outputs": [],
   "source": [
    "# perceptron\n",
    "\n",
    "def fruit_classifier_neuron(surface,weight,actualfruit):\n",
    "    if(weight < 115):\n",
    "        weight  = 1\n",
    "    else:\n",
    "        weight = 0\n",
    "    guessedfruit = surface*weights[0] + weight*weights[1] + bias*weights[2]\n",
    "    if guessedfruit > 0:\n",
    "        guessedfruit = 1\n",
    "    else:\n",
    "        guessedfruit = 0\n",
    "    error = actualfruit - guessedfruit\n",
    "    weights[0] += error * surface * lr\n",
    "    weights[1] += error * weight * lr\n",
    "    weights[2] += error * bias * lr\n",
    "    "
   ]
  },
  {
   "cell_type": "code",
   "execution_count": null,
   "metadata": {},
   "outputs": [],
   "source": [
    "#  epochs\n",
    "for i in range(10): \n",
    "    fruit_classifier_neuron(1,70,1)\n",
    "    fruit_classifier_neuron(0,125,0)\n",
    "    fruit_classifier_neuron(1,91,1)\n",
    "    fruit_classifier_neuron(0,123,0)\n",
    "    fruit_classifier_neuron(1,105,1)\n",
    "    fruit_classifier_neuron(0,140,0)\n",
    "    fruit_classifier_neuron(1,85,1)\n",
    "    fruit_classifier_neuron(0,138,0)\n",
    "    fruit_classifier_neuron(1,83,1)\n",
    "    fruit_classifier_neuron(0,133,0)\n"
   ]
  },
  {
   "cell_type": "code",
   "execution_count": null,
   "metadata": {},
   "outputs": [],
   "source": [
    "# exporting weights\n",
    "\n",
    "filename = 'weightvalues'\n",
    "outfile = open(filename,'wb')\n",
    "pickle.dump(weights,outfile)\n",
    "outfile.close()"
   ]
  }
 ],
 "metadata": {
  "kernelspec": {
   "display_name": "Python 3",
   "language": "python",
   "name": "python3"
  },
  "language_info": {
   "codemirror_mode": {
    "name": "ipython",
    "version": 3
   },
   "file_extension": ".py",
   "mimetype": "text/x-python",
   "name": "python",
   "nbconvert_exporter": "python",
   "pygments_lexer": "ipython3",
   "version": "3.7.1"
  }
 },
 "nbformat": 4,
 "nbformat_minor": 2
}
